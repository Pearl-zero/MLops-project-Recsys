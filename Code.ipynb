{
 "cells": [
  {
   "cell_type": "code",
   "execution_count": null,
   "id": "13ce0d3f-f579-491d-82f9-bad527cf6a0e",
   "metadata": {
    "tags": []
   },
   "outputs": [],
   "source": [
    "import numpy as np\n",
    "import pandas as pd\n",
    "import matplotlib.pyplot as plt\n",
    "\n",
    "from sklearn.feature_extraction.text import TfidfVectorizer, CountVectorizer\n",
    "from sklearn.metrics.pairwise import linear_kernel, cosine_similarity\n",
    "from sklearn.linear_model import Ridge\n",
    "from ast import literal_eval\n",
    "\n",
    "from surprise import Reader, Dataset, SVD, accuracy\n",
    "from surprise.model_selection import cross_validate, KFold\n",
    "from surprise.dataset import DatasetAutoFolds\n",
    "\n",
    "import json\n",
    "import requests"
   ]
  },
  {
   "cell_type": "markdown",
   "id": "0d3e881a-ea89-4ca8-8131-94ae9dccc586",
   "metadata": {},
   "source": [
    "# **Data Load**"
   ]
  },
  {
   "cell_type": "code",
   "execution_count": 2,
   "id": "9e8131af-5c84-4d94-a54c-1c0951f9207d",
   "metadata": {
    "tags": []
   },
   "outputs": [
    {
     "name": "stdout",
     "output_type": "stream",
     "text": [
      "(45433, 24)\n"
     ]
    },
    {
     "data": {
      "text/html": [
       "<div>\n",
       "<style scoped>\n",
       "    .dataframe tbody tr th:only-of-type {\n",
       "        vertical-align: middle;\n",
       "    }\n",
       "\n",
       "    .dataframe tbody tr th {\n",
       "        vertical-align: top;\n",
       "    }\n",
       "\n",
       "    .dataframe thead th {\n",
       "        text-align: right;\n",
       "    }\n",
       "</style>\n",
       "<table border=\"1\" class=\"dataframe\">\n",
       "  <thead>\n",
       "    <tr style=\"text-align: right;\">\n",
       "      <th></th>\n",
       "      <th>adult</th>\n",
       "      <th>belongs_to_collection</th>\n",
       "      <th>budget</th>\n",
       "      <th>genres</th>\n",
       "      <th>homepage</th>\n",
       "      <th>id</th>\n",
       "      <th>imdb_id</th>\n",
       "      <th>original_language</th>\n",
       "      <th>original_title</th>\n",
       "      <th>overview</th>\n",
       "      <th>...</th>\n",
       "      <th>release_date</th>\n",
       "      <th>revenue</th>\n",
       "      <th>runtime</th>\n",
       "      <th>spoken_languages</th>\n",
       "      <th>status</th>\n",
       "      <th>tagline</th>\n",
       "      <th>title</th>\n",
       "      <th>video</th>\n",
       "      <th>vote_average</th>\n",
       "      <th>vote_count</th>\n",
       "    </tr>\n",
       "  </thead>\n",
       "  <tbody>\n",
       "    <tr>\n",
       "      <th>0</th>\n",
       "      <td>False</td>\n",
       "      <td>{'id': 10194, 'name': 'Toy Story Collection', ...</td>\n",
       "      <td>30000000.0</td>\n",
       "      <td>[{'id': 16, 'name': 'Animation'}, {'id': 35, '...</td>\n",
       "      <td>http://toystory.disney.com/toy-story</td>\n",
       "      <td>862</td>\n",
       "      <td>114709</td>\n",
       "      <td>en</td>\n",
       "      <td>Toy Story</td>\n",
       "      <td>Led by Woody, Andy's toys live happily in his ...</td>\n",
       "      <td>...</td>\n",
       "      <td>1995-10-30</td>\n",
       "      <td>373554033.0</td>\n",
       "      <td>81.0</td>\n",
       "      <td>[{'iso_639_1': 'en', 'name': 'English'}]</td>\n",
       "      <td>Released</td>\n",
       "      <td>NaN</td>\n",
       "      <td>Toy Story</td>\n",
       "      <td>False</td>\n",
       "      <td>7.7</td>\n",
       "      <td>5415.0</td>\n",
       "    </tr>\n",
       "    <tr>\n",
       "      <th>1</th>\n",
       "      <td>False</td>\n",
       "      <td>NaN</td>\n",
       "      <td>65000000.0</td>\n",
       "      <td>[{'id': 12, 'name': 'Adventure'}, {'id': 14, '...</td>\n",
       "      <td>NaN</td>\n",
       "      <td>8844</td>\n",
       "      <td>113497</td>\n",
       "      <td>en</td>\n",
       "      <td>Jumanji</td>\n",
       "      <td>When siblings Judy and Peter discover an encha...</td>\n",
       "      <td>...</td>\n",
       "      <td>1995-12-15</td>\n",
       "      <td>262797249.0</td>\n",
       "      <td>104.0</td>\n",
       "      <td>[{'iso_639_1': 'en', 'name': 'English'}, {'iso...</td>\n",
       "      <td>Released</td>\n",
       "      <td>Roll the dice and unleash the excitement!</td>\n",
       "      <td>Jumanji</td>\n",
       "      <td>False</td>\n",
       "      <td>6.9</td>\n",
       "      <td>2413.0</td>\n",
       "    </tr>\n",
       "    <tr>\n",
       "      <th>2</th>\n",
       "      <td>False</td>\n",
       "      <td>{'id': 119050, 'name': 'Grumpy Old Men Collect...</td>\n",
       "      <td>0.0</td>\n",
       "      <td>[{'id': 10749, 'name': 'Romance'}, {'id': 35, ...</td>\n",
       "      <td>NaN</td>\n",
       "      <td>15602</td>\n",
       "      <td>113228</td>\n",
       "      <td>en</td>\n",
       "      <td>Grumpier Old Men</td>\n",
       "      <td>A family wedding reignites the ancient feud be...</td>\n",
       "      <td>...</td>\n",
       "      <td>1995-12-22</td>\n",
       "      <td>0.0</td>\n",
       "      <td>101.0</td>\n",
       "      <td>[{'iso_639_1': 'en', 'name': 'English'}]</td>\n",
       "      <td>Released</td>\n",
       "      <td>Still Yelling. Still Fighting. Still Ready for...</td>\n",
       "      <td>Grumpier Old Men</td>\n",
       "      <td>False</td>\n",
       "      <td>6.5</td>\n",
       "      <td>92.0</td>\n",
       "    </tr>\n",
       "    <tr>\n",
       "      <th>3</th>\n",
       "      <td>False</td>\n",
       "      <td>NaN</td>\n",
       "      <td>16000000.0</td>\n",
       "      <td>[{'id': 35, 'name': 'Comedy'}, {'id': 18, 'nam...</td>\n",
       "      <td>NaN</td>\n",
       "      <td>31357</td>\n",
       "      <td>114885</td>\n",
       "      <td>en</td>\n",
       "      <td>Waiting to Exhale</td>\n",
       "      <td>Cheated on, mistreated and stepped on, the wom...</td>\n",
       "      <td>...</td>\n",
       "      <td>1995-12-22</td>\n",
       "      <td>81452156.0</td>\n",
       "      <td>127.0</td>\n",
       "      <td>[{'iso_639_1': 'en', 'name': 'English'}]</td>\n",
       "      <td>Released</td>\n",
       "      <td>Friends are the people who let you be yourself...</td>\n",
       "      <td>Waiting to Exhale</td>\n",
       "      <td>False</td>\n",
       "      <td>6.1</td>\n",
       "      <td>34.0</td>\n",
       "    </tr>\n",
       "    <tr>\n",
       "      <th>4</th>\n",
       "      <td>False</td>\n",
       "      <td>{'id': 96871, 'name': 'Father of the Bride Col...</td>\n",
       "      <td>0.0</td>\n",
       "      <td>[{'id': 35, 'name': 'Comedy'}]</td>\n",
       "      <td>NaN</td>\n",
       "      <td>11862</td>\n",
       "      <td>113041</td>\n",
       "      <td>en</td>\n",
       "      <td>Father of the Bride Part II</td>\n",
       "      <td>Just when George Banks has recovered from his ...</td>\n",
       "      <td>...</td>\n",
       "      <td>1995-02-10</td>\n",
       "      <td>76578911.0</td>\n",
       "      <td>106.0</td>\n",
       "      <td>[{'iso_639_1': 'en', 'name': 'English'}]</td>\n",
       "      <td>Released</td>\n",
       "      <td>Just When His World Is Back To Normal... He's ...</td>\n",
       "      <td>Father of the Bride Part II</td>\n",
       "      <td>False</td>\n",
       "      <td>5.7</td>\n",
       "      <td>173.0</td>\n",
       "    </tr>\n",
       "  </tbody>\n",
       "</table>\n",
       "<p>5 rows × 24 columns</p>\n",
       "</div>"
      ],
      "text/plain": [
       "   adult                              belongs_to_collection      budget  \\\n",
       "0  False  {'id': 10194, 'name': 'Toy Story Collection', ...  30000000.0   \n",
       "1  False                                                NaN  65000000.0   \n",
       "2  False  {'id': 119050, 'name': 'Grumpy Old Men Collect...         0.0   \n",
       "3  False                                                NaN  16000000.0   \n",
       "4  False  {'id': 96871, 'name': 'Father of the Bride Col...         0.0   \n",
       "\n",
       "                                              genres  \\\n",
       "0  [{'id': 16, 'name': 'Animation'}, {'id': 35, '...   \n",
       "1  [{'id': 12, 'name': 'Adventure'}, {'id': 14, '...   \n",
       "2  [{'id': 10749, 'name': 'Romance'}, {'id': 35, ...   \n",
       "3  [{'id': 35, 'name': 'Comedy'}, {'id': 18, 'nam...   \n",
       "4                     [{'id': 35, 'name': 'Comedy'}]   \n",
       "\n",
       "                               homepage     id  imdb_id original_language  \\\n",
       "0  http://toystory.disney.com/toy-story    862   114709                en   \n",
       "1                                   NaN   8844   113497                en   \n",
       "2                                   NaN  15602   113228                en   \n",
       "3                                   NaN  31357   114885                en   \n",
       "4                                   NaN  11862   113041                en   \n",
       "\n",
       "                original_title  \\\n",
       "0                    Toy Story   \n",
       "1                      Jumanji   \n",
       "2             Grumpier Old Men   \n",
       "3            Waiting to Exhale   \n",
       "4  Father of the Bride Part II   \n",
       "\n",
       "                                            overview  ...  release_date  \\\n",
       "0  Led by Woody, Andy's toys live happily in his ...  ...    1995-10-30   \n",
       "1  When siblings Judy and Peter discover an encha...  ...    1995-12-15   \n",
       "2  A family wedding reignites the ancient feud be...  ...    1995-12-22   \n",
       "3  Cheated on, mistreated and stepped on, the wom...  ...    1995-12-22   \n",
       "4  Just when George Banks has recovered from his ...  ...    1995-02-10   \n",
       "\n",
       "       revenue runtime                                   spoken_languages  \\\n",
       "0  373554033.0    81.0           [{'iso_639_1': 'en', 'name': 'English'}]   \n",
       "1  262797249.0   104.0  [{'iso_639_1': 'en', 'name': 'English'}, {'iso...   \n",
       "2          0.0   101.0           [{'iso_639_1': 'en', 'name': 'English'}]   \n",
       "3   81452156.0   127.0           [{'iso_639_1': 'en', 'name': 'English'}]   \n",
       "4   76578911.0   106.0           [{'iso_639_1': 'en', 'name': 'English'}]   \n",
       "\n",
       "     status                                            tagline  \\\n",
       "0  Released                                                NaN   \n",
       "1  Released          Roll the dice and unleash the excitement!   \n",
       "2  Released  Still Yelling. Still Fighting. Still Ready for...   \n",
       "3  Released  Friends are the people who let you be yourself...   \n",
       "4  Released  Just When His World Is Back To Normal... He's ...   \n",
       "\n",
       "                         title  video vote_average vote_count  \n",
       "0                    Toy Story  False          7.7     5415.0  \n",
       "1                      Jumanji  False          6.9     2413.0  \n",
       "2             Grumpier Old Men  False          6.5       92.0  \n",
       "3            Waiting to Exhale  False          6.1       34.0  \n",
       "4  Father of the Bride Part II  False          5.7      173.0  \n",
       "\n",
       "[5 rows x 24 columns]"
      ]
     },
     "execution_count": 2,
     "metadata": {},
     "output_type": "execute_result"
    }
   ],
   "source": [
    "# Step 1: Load CSV with initial dtype as string to clean and remove unnecessary columns\n",
    "df_movies = pd.read_csv(\"../data/movies_metadata.csv\", dtype=str, low_memory=False)\n",
    "\n",
    "# Remove columns that are not necessary and might contain non-numeric data\n",
    "# columns_to_remove = ['poster_path', 'belongs_to_collection', 'homepage', 'tagline', 'video']\n",
    "# df_movies.drop(columns=columns_to_remove, inplace=True, errors='ignore')\n",
    "\n",
    "# Step 2: Convert the relevant columns to numeric values (with error handling)\n",
    "df_movies['budget'] = pd.to_numeric(df_movies['budget'], errors='coerce')\n",
    "df_movies['popularity'] = pd.to_numeric(df_movies['popularity'], errors='coerce')\n",
    "df_movies['revenue'] = pd.to_numeric(df_movies['revenue'], errors='coerce')\n",
    "df_movies['runtime'] = pd.to_numeric(df_movies['runtime'], errors='coerce')\n",
    "df_movies['vote_average'] = pd.to_numeric(df_movies['vote_average'], errors='coerce')\n",
    "df_movies['vote_count'] = pd.to_numeric(df_movies['vote_count'], errors='coerce')\n",
    "\n",
    "# Step 3: Filter out rows where 'id' is not numeric\n",
    "df_movies = df_movies[pd.to_numeric(df_movies['id'], errors='coerce').notna()]\n",
    "\n",
    "# Convert 'id' to integer\n",
    "df_movies['id'] = df_movies['id'].astype(int)\n",
    "df_movies = df_movies.drop_duplicates(subset=['id'])\n",
    "\n",
    "# Step 4: Apply the correct dtype specification using astype\n",
    "df_movies = df_movies.astype({\n",
    "    'adult': 'str',\n",
    "    'budget': 'float',\n",
    "    'genres': 'str',\n",
    "    'imdb_id': 'str',\n",
    "    'original_language': 'str',\n",
    "    'original_title': 'str',\n",
    "    'overview': 'str',\n",
    "    'popularity': 'float',  # This should be numeric now\n",
    "    'production_companies': 'str',\n",
    "    'production_countries': 'str',\n",
    "    'release_date': 'str',  # You can convert to datetime later if needed\n",
    "    'revenue': 'float',\n",
    "    'runtime': 'float',\n",
    "    'spoken_languages': 'str',\n",
    "    'status': 'str',\n",
    "    'title': 'str',\n",
    "    'vote_average': 'float',\n",
    "    'vote_count': 'float'\n",
    "})\n",
    "\n",
    "# Step 5: convert imdb_id into integer\n",
    "df_movies['imdb_id'] = df_movies['imdb_id'].apply(\n",
    "    lambda x: int(x.replace('tt', '').lstrip('0')) if pd.notna(x) and x.startswith('tt') else None\n",
    ")\n",
    "df_movies['imdb_id'] = df_movies['imdb_id'].astype('Int64')\n",
    "\n",
    "# Step 6: Check the shape and the head of the DataFrame\n",
    "print(df_movies.shape)\n",
    "df_movies.head()"
   ]
  },
  {
   "cell_type": "code",
   "execution_count": 3,
   "id": "3bb9c655-3dbf-482d-bad0-887b703af752",
   "metadata": {
    "tags": []
   },
   "outputs": [
    {
     "data": {
      "text/plain": [
       "adult                     object\n",
       "belongs_to_collection     object\n",
       "budget                   float64\n",
       "genres                    object\n",
       "homepage                  object\n",
       "id                         int64\n",
       "imdb_id                    Int64\n",
       "original_language         object\n",
       "original_title            object\n",
       "overview                  object\n",
       "popularity               float64\n",
       "poster_path               object\n",
       "production_companies      object\n",
       "production_countries      object\n",
       "release_date              object\n",
       "revenue                  float64\n",
       "runtime                  float64\n",
       "spoken_languages          object\n",
       "status                    object\n",
       "tagline                   object\n",
       "title                     object\n",
       "video                     object\n",
       "vote_average             float64\n",
       "vote_count               float64\n",
       "dtype: object"
      ]
     },
     "execution_count": 3,
     "metadata": {},
     "output_type": "execute_result"
    }
   ],
   "source": [
    "df_movies.dtypes"
   ]
  },
  {
   "cell_type": "code",
   "execution_count": 4,
   "id": "dd31dc21-1ec3-4908-a33c-6c0d5df07dd6",
   "metadata": {
    "tags": []
   },
   "outputs": [
    {
     "data": {
      "text/plain": [
       "0         114709\n",
       "1         113497\n",
       "2         113228\n",
       "3         114885\n",
       "4         113041\n",
       "          ...   \n",
       "45461    6209470\n",
       "45462    2028550\n",
       "45463     303758\n",
       "45464       8536\n",
       "45465    6980792\n",
       "Name: imdb_id, Length: 45433, dtype: Int64"
      ]
     },
     "execution_count": 4,
     "metadata": {},
     "output_type": "execute_result"
    }
   ],
   "source": [
    "df_movies['imdb_id']"
   ]
  },
  {
   "cell_type": "code",
   "execution_count": 5,
   "id": "3c63c159-c3b6-48f0-ba7d-27864e004479",
   "metadata": {
    "tags": []
   },
   "outputs": [
    {
     "name": "stdout",
     "output_type": "stream",
     "text": [
      "(45432, 3)\n",
      "cast    object\n",
      "crew    object\n",
      "id       int64\n",
      "dtype: object\n"
     ]
    },
    {
     "data": {
      "text/html": [
       "<div>\n",
       "<style scoped>\n",
       "    .dataframe tbody tr th:only-of-type {\n",
       "        vertical-align: middle;\n",
       "    }\n",
       "\n",
       "    .dataframe tbody tr th {\n",
       "        vertical-align: top;\n",
       "    }\n",
       "\n",
       "    .dataframe thead th {\n",
       "        text-align: right;\n",
       "    }\n",
       "</style>\n",
       "<table border=\"1\" class=\"dataframe\">\n",
       "  <thead>\n",
       "    <tr style=\"text-align: right;\">\n",
       "      <th></th>\n",
       "      <th>cast</th>\n",
       "      <th>crew</th>\n",
       "      <th>id</th>\n",
       "    </tr>\n",
       "  </thead>\n",
       "  <tbody>\n",
       "    <tr>\n",
       "      <th>0</th>\n",
       "      <td>[{'cast_id': 14, 'character': 'Woody (voice)',...</td>\n",
       "      <td>[{'credit_id': '52fe4284c3a36847f8024f49', 'de...</td>\n",
       "      <td>862</td>\n",
       "    </tr>\n",
       "    <tr>\n",
       "      <th>1</th>\n",
       "      <td>[{'cast_id': 1, 'character': 'Alan Parrish', '...</td>\n",
       "      <td>[{'credit_id': '52fe44bfc3a36847f80a7cd1', 'de...</td>\n",
       "      <td>8844</td>\n",
       "    </tr>\n",
       "    <tr>\n",
       "      <th>2</th>\n",
       "      <td>[{'cast_id': 2, 'character': 'Max Goldman', 'c...</td>\n",
       "      <td>[{'credit_id': '52fe466a9251416c75077a89', 'de...</td>\n",
       "      <td>15602</td>\n",
       "    </tr>\n",
       "    <tr>\n",
       "      <th>3</th>\n",
       "      <td>[{'cast_id': 1, 'character': \"Savannah 'Vannah...</td>\n",
       "      <td>[{'credit_id': '52fe44779251416c91011acb', 'de...</td>\n",
       "      <td>31357</td>\n",
       "    </tr>\n",
       "    <tr>\n",
       "      <th>4</th>\n",
       "      <td>[{'cast_id': 1, 'character': 'George Banks', '...</td>\n",
       "      <td>[{'credit_id': '52fe44959251416c75039ed7', 'de...</td>\n",
       "      <td>11862</td>\n",
       "    </tr>\n",
       "  </tbody>\n",
       "</table>\n",
       "</div>"
      ],
      "text/plain": [
       "                                                cast  \\\n",
       "0  [{'cast_id': 14, 'character': 'Woody (voice)',...   \n",
       "1  [{'cast_id': 1, 'character': 'Alan Parrish', '...   \n",
       "2  [{'cast_id': 2, 'character': 'Max Goldman', 'c...   \n",
       "3  [{'cast_id': 1, 'character': \"Savannah 'Vannah...   \n",
       "4  [{'cast_id': 1, 'character': 'George Banks', '...   \n",
       "\n",
       "                                                crew     id  \n",
       "0  [{'credit_id': '52fe4284c3a36847f8024f49', 'de...    862  \n",
       "1  [{'credit_id': '52fe44bfc3a36847f80a7cd1', 'de...   8844  \n",
       "2  [{'credit_id': '52fe466a9251416c75077a89', 'de...  15602  \n",
       "3  [{'credit_id': '52fe44779251416c91011acb', 'de...  31357  \n",
       "4  [{'credit_id': '52fe44959251416c75039ed7', 'de...  11862  "
      ]
     },
     "execution_count": 5,
     "metadata": {},
     "output_type": "execute_result"
    }
   ],
   "source": [
    "df_credits = pd.read_csv(\"../data/credits.csv\")\n",
    "df_credits = df_credits.drop_duplicates(subset=['id'])\n",
    "print(df_credits.shape)\n",
    "print(df_credits.dtypes)\n",
    "df_credits.head()"
   ]
  },
  {
   "cell_type": "code",
   "execution_count": 6,
   "id": "69b6c567-35c0-47de-a38c-e2c96824f59e",
   "metadata": {
    "tags": []
   },
   "outputs": [
    {
     "name": "stdout",
     "output_type": "stream",
     "text": [
      "(46419, 2)\n",
      "id           int64\n",
      "keywords    object\n",
      "dtype: object\n"
     ]
    },
    {
     "data": {
      "text/html": [
       "<div>\n",
       "<style scoped>\n",
       "    .dataframe tbody tr th:only-of-type {\n",
       "        vertical-align: middle;\n",
       "    }\n",
       "\n",
       "    .dataframe tbody tr th {\n",
       "        vertical-align: top;\n",
       "    }\n",
       "\n",
       "    .dataframe thead th {\n",
       "        text-align: right;\n",
       "    }\n",
       "</style>\n",
       "<table border=\"1\" class=\"dataframe\">\n",
       "  <thead>\n",
       "    <tr style=\"text-align: right;\">\n",
       "      <th></th>\n",
       "      <th>id</th>\n",
       "      <th>keywords</th>\n",
       "    </tr>\n",
       "  </thead>\n",
       "  <tbody>\n",
       "    <tr>\n",
       "      <th>0</th>\n",
       "      <td>862</td>\n",
       "      <td>[{'id': 931, 'name': 'jealousy'}, {'id': 4290,...</td>\n",
       "    </tr>\n",
       "    <tr>\n",
       "      <th>1</th>\n",
       "      <td>8844</td>\n",
       "      <td>[{'id': 10090, 'name': 'board game'}, {'id': 1...</td>\n",
       "    </tr>\n",
       "    <tr>\n",
       "      <th>2</th>\n",
       "      <td>15602</td>\n",
       "      <td>[{'id': 1495, 'name': 'fishing'}, {'id': 12392...</td>\n",
       "    </tr>\n",
       "    <tr>\n",
       "      <th>3</th>\n",
       "      <td>31357</td>\n",
       "      <td>[{'id': 818, 'name': 'based on novel'}, {'id':...</td>\n",
       "    </tr>\n",
       "    <tr>\n",
       "      <th>4</th>\n",
       "      <td>11862</td>\n",
       "      <td>[{'id': 1009, 'name': 'baby'}, {'id': 1599, 'n...</td>\n",
       "    </tr>\n",
       "  </tbody>\n",
       "</table>\n",
       "</div>"
      ],
      "text/plain": [
       "      id                                           keywords\n",
       "0    862  [{'id': 931, 'name': 'jealousy'}, {'id': 4290,...\n",
       "1   8844  [{'id': 10090, 'name': 'board game'}, {'id': 1...\n",
       "2  15602  [{'id': 1495, 'name': 'fishing'}, {'id': 12392...\n",
       "3  31357  [{'id': 818, 'name': 'based on novel'}, {'id':...\n",
       "4  11862  [{'id': 1009, 'name': 'baby'}, {'id': 1599, 'n..."
      ]
     },
     "execution_count": 6,
     "metadata": {},
     "output_type": "execute_result"
    }
   ],
   "source": [
    "df_keywords = pd.read_csv(\"../data/keywords.csv\")\n",
    "df_keyword = df_keywords.drop_duplicates(subset=['id'])\n",
    "print(df_keywords.shape)\n",
    "print(df_keywords.dtypes)\n",
    "df_keywords.head()"
   ]
  },
  {
   "cell_type": "code",
   "execution_count": 7,
   "id": "77a13283-a6a1-4ac0-acbf-6b8c00c8bf42",
   "metadata": {
    "tags": []
   },
   "outputs": [
    {
     "name": "stdout",
     "output_type": "stream",
     "text": [
      "(45843, 2)\n",
      "imdb_id    int64\n",
      "tmdb_id    Int64\n",
      "dtype: object\n"
     ]
    },
    {
     "data": {
      "text/html": [
       "<div>\n",
       "<style scoped>\n",
       "    .dataframe tbody tr th:only-of-type {\n",
       "        vertical-align: middle;\n",
       "    }\n",
       "\n",
       "    .dataframe tbody tr th {\n",
       "        vertical-align: top;\n",
       "    }\n",
       "\n",
       "    .dataframe thead th {\n",
       "        text-align: right;\n",
       "    }\n",
       "</style>\n",
       "<table border=\"1\" class=\"dataframe\">\n",
       "  <thead>\n",
       "    <tr style=\"text-align: right;\">\n",
       "      <th></th>\n",
       "      <th>imdb_id</th>\n",
       "      <th>tmdb_id</th>\n",
       "    </tr>\n",
       "  </thead>\n",
       "  <tbody>\n",
       "    <tr>\n",
       "      <th>0</th>\n",
       "      <td>114709</td>\n",
       "      <td>862</td>\n",
       "    </tr>\n",
       "    <tr>\n",
       "      <th>1</th>\n",
       "      <td>113497</td>\n",
       "      <td>8844</td>\n",
       "    </tr>\n",
       "    <tr>\n",
       "      <th>2</th>\n",
       "      <td>113228</td>\n",
       "      <td>15602</td>\n",
       "    </tr>\n",
       "    <tr>\n",
       "      <th>3</th>\n",
       "      <td>114885</td>\n",
       "      <td>31357</td>\n",
       "    </tr>\n",
       "    <tr>\n",
       "      <th>4</th>\n",
       "      <td>113041</td>\n",
       "      <td>11862</td>\n",
       "    </tr>\n",
       "  </tbody>\n",
       "</table>\n",
       "</div>"
      ],
      "text/plain": [
       "   imdb_id  tmdb_id\n",
       "0   114709      862\n",
       "1   113497     8844\n",
       "2   113228    15602\n",
       "3   114885    31357\n",
       "4   113041    11862"
      ]
     },
     "execution_count": 7,
     "metadata": {},
     "output_type": "execute_result"
    }
   ],
   "source": [
    "df_links = pd.read_csv(\"../data/links.csv\")\n",
    "df_links = df_links[['imdbId', 'tmdbId']]\n",
    "df_links = df_links.rename(columns={'imdbId': 'imdb_id', 'tmdbId': 'tmdb_id'})\n",
    "df_links['tmdb_id'] = df_links['tmdb_id'].astype('Int64')\n",
    "print(df_links.shape)\n",
    "print(df_links.dtypes)\n",
    "df_links.head()"
   ]
  },
  {
   "cell_type": "code",
   "execution_count": 8,
   "id": "00cf42fb-e794-4f0f-af4a-4ef3b8582b70",
   "metadata": {
    "tags": []
   },
   "outputs": [
    {
     "name": "stdout",
     "output_type": "stream",
     "text": [
      "(26024289, 4)\n",
      "userId         int64\n",
      "movieId        int64\n",
      "rating       float64\n",
      "timestamp      int64\n",
      "dtype: object\n"
     ]
    },
    {
     "data": {
      "text/html": [
       "<div>\n",
       "<style scoped>\n",
       "    .dataframe tbody tr th:only-of-type {\n",
       "        vertical-align: middle;\n",
       "    }\n",
       "\n",
       "    .dataframe tbody tr th {\n",
       "        vertical-align: top;\n",
       "    }\n",
       "\n",
       "    .dataframe thead th {\n",
       "        text-align: right;\n",
       "    }\n",
       "</style>\n",
       "<table border=\"1\" class=\"dataframe\">\n",
       "  <thead>\n",
       "    <tr style=\"text-align: right;\">\n",
       "      <th></th>\n",
       "      <th>userId</th>\n",
       "      <th>movieId</th>\n",
       "      <th>rating</th>\n",
       "      <th>timestamp</th>\n",
       "    </tr>\n",
       "  </thead>\n",
       "  <tbody>\n",
       "    <tr>\n",
       "      <th>0</th>\n",
       "      <td>1</td>\n",
       "      <td>110</td>\n",
       "      <td>1.0</td>\n",
       "      <td>1425941529</td>\n",
       "    </tr>\n",
       "    <tr>\n",
       "      <th>1</th>\n",
       "      <td>1</td>\n",
       "      <td>147</td>\n",
       "      <td>4.5</td>\n",
       "      <td>1425942435</td>\n",
       "    </tr>\n",
       "    <tr>\n",
       "      <th>2</th>\n",
       "      <td>1</td>\n",
       "      <td>858</td>\n",
       "      <td>5.0</td>\n",
       "      <td>1425941523</td>\n",
       "    </tr>\n",
       "    <tr>\n",
       "      <th>3</th>\n",
       "      <td>1</td>\n",
       "      <td>1221</td>\n",
       "      <td>5.0</td>\n",
       "      <td>1425941546</td>\n",
       "    </tr>\n",
       "    <tr>\n",
       "      <th>4</th>\n",
       "      <td>1</td>\n",
       "      <td>1246</td>\n",
       "      <td>5.0</td>\n",
       "      <td>1425941556</td>\n",
       "    </tr>\n",
       "  </tbody>\n",
       "</table>\n",
       "</div>"
      ],
      "text/plain": [
       "   userId  movieId  rating   timestamp\n",
       "0       1      110     1.0  1425941529\n",
       "1       1      147     4.5  1425942435\n",
       "2       1      858     5.0  1425941523\n",
       "3       1     1221     5.0  1425941546\n",
       "4       1     1246     5.0  1425941556"
      ]
     },
     "execution_count": 8,
     "metadata": {},
     "output_type": "execute_result"
    }
   ],
   "source": [
    "df_ratings = pd.read_csv(\"../data/ratings.csv\")\n",
    "print(df_ratings.shape)\n",
    "print(df_ratings.dtypes)\n",
    "df_ratings.head()"
   ]
  },
  {
   "cell_type": "markdown",
   "id": "9a024282-44a4-44f2-abb3-f371e1b450ec",
   "metadata": {},
   "source": [
    "# **데이터 전처리**"
   ]
  },
  {
   "cell_type": "code",
   "execution_count": 9,
   "id": "42b84f00-800c-4226-9486-a810f6fd6116",
   "metadata": {
    "tags": []
   },
   "outputs": [
    {
     "data": {
      "text/plain": [
       "(46338, 28)"
      ]
     },
     "execution_count": 9,
     "metadata": {},
     "output_type": "execute_result"
    }
   ],
   "source": [
    "# df_movies, df_credits, df_keywords 병합\n",
    "df_merged = pd.merge(df_movies, df_credits, on=['id'], how='inner')\n",
    "df_merged = pd.merge(df_merged, df_keywords, on=['id'], how='inner')\n",
    "df_merged = pd.merge(df_merged, df_links, on=['imdb_id'], how='inner')\n",
    "df_merged.shape"
   ]
  },
  {
   "cell_type": "code",
   "execution_count": 10,
   "id": "6dfbbc02-c36a-4845-8b62-854a62a63e32",
   "metadata": {
    "tags": []
   },
   "outputs": [
    {
     "data": {
      "text/plain": [
       "adult                     object\n",
       "belongs_to_collection     object\n",
       "budget                   float64\n",
       "genres                    object\n",
       "homepage                  object\n",
       "id                         int64\n",
       "imdb_id                    Int64\n",
       "original_language         object\n",
       "original_title            object\n",
       "overview                  object\n",
       "popularity               float64\n",
       "poster_path               object\n",
       "production_companies      object\n",
       "production_countries      object\n",
       "release_date              object\n",
       "revenue                  float64\n",
       "runtime                  float64\n",
       "spoken_languages          object\n",
       "status                    object\n",
       "tagline                   object\n",
       "title                     object\n",
       "video                     object\n",
       "vote_average             float64\n",
       "vote_count               float64\n",
       "cast                      object\n",
       "crew                      object\n",
       "keywords                  object\n",
       "tmdb_id                    Int64\n",
       "dtype: object"
      ]
     },
     "execution_count": 10,
     "metadata": {},
     "output_type": "execute_result"
    }
   ],
   "source": [
    "df_merged.dtypes"
   ]
  },
  {
   "cell_type": "code",
   "execution_count": 11,
   "id": "79b55509-fc68-491f-88e4-4332394f9c12",
   "metadata": {
    "tags": []
   },
   "outputs": [
    {
     "data": {
      "text/plain": [
       "\"[{'cast_id': 14, 'character': 'Woody (voice)', 'credit_id': '52fe4284c3a36847f8024f95', 'gender': 2, 'id': 31, 'name': 'Tom Hanks', 'order': 0, 'profile_path': '/pQFoyx7rp09CJTAb932F2g8Nlho.jpg'}, {'cast_id': 15, 'character': 'Buzz Lightyear (voice)', 'credit_id': '52fe4284c3a36847f8024f99', 'gender': 2, 'id': 12898, 'name': 'Tim Allen', 'order': 1, 'profile_path': '/uX2xVf6pMmPepxnvFWyBtjexzgY.jpg'}, {'cast_id': 16, 'character': 'Mr. Potato Head (voice)', 'credit_id': '52fe4284c3a36847f8024f9d', 'gender': 2, 'id': 7167, 'name': 'Don Rickles', 'order': 2, 'profile_path': '/h5BcaDMPRVLHLDzbQavec4xfSdt.jpg'}, {'cast_id': 17, 'character': 'Slinky Dog (voice)', 'credit_id': '52fe4284c3a36847f8024fa1', 'gender': 2, 'id': 12899, 'name': 'Jim Varney', 'order': 3, 'profile_path': '/eIo2jVVXYgjDtaHoF19Ll9vtW7h.jpg'}, {'cast_id': 18, 'character': 'Rex (voice)', 'credit_id': '52fe4284c3a36847f8024fa5', 'gender': 2, 'id': 12900, 'name': 'Wallace Shawn', 'order': 4, 'profile_path': '/oGE6JqPP2xH4tNORKNqxbNPYi7u.jpg'}, {'cast_id': 19, 'character': 'Hamm (voice)', 'credit_id': '52fe4284c3a36847f8024fa9', 'gender': 2, 'id': 7907, 'name': 'John Ratzenberger', 'order': 5, 'profile_path': '/yGechiKWL6TJDfVE2KPSJYqdMsY.jpg'}, {'cast_id': 20, 'character': 'Bo Peep (voice)', 'credit_id': '52fe4284c3a36847f8024fad', 'gender': 1, 'id': 8873, 'name': 'Annie Potts', 'order': 6, 'profile_path': '/eryXT84RL41jHSJcMy4kS3u9y6w.jpg'}, {'cast_id': 26, 'character': 'Andy (voice)', 'credit_id': '52fe4284c3a36847f8024fc1', 'gender': 0, 'id': 1116442, 'name': 'John Morris', 'order': 7, 'profile_path': '/vYGyvK4LzeaUCoNSHtsuqJUY15M.jpg'}, {'cast_id': 22, 'character': 'Sid (voice)', 'credit_id': '52fe4284c3a36847f8024fb1', 'gender': 2, 'id': 12901, 'name': 'Erik von Detten', 'order': 8, 'profile_path': '/twnF1ZaJ1FUNUuo6xLXwcxjayBE.jpg'}, {'cast_id': 23, 'character': 'Mrs. Davis (voice)', 'credit_id': '52fe4284c3a36847f8024fb5', 'gender': 1, 'id': 12133, 'name': 'Laurie Metcalf', 'order': 9, 'profile_path': '/unMMIT60eoBM2sN2nyR7EZ2BvvD.jpg'}, {'cast_id': 24, 'character': 'Sergeant (voice)', 'credit_id': '52fe4284c3a36847f8024fb9', 'gender': 2, 'id': 8655, 'name': 'R. Lee Ermey', 'order': 10, 'profile_path': '/r8GBqFBjypLUP9VVqDqfZ7wYbSs.jpg'}, {'cast_id': 25, 'character': 'Hannah (voice)', 'credit_id': '52fe4284c3a36847f8024fbd', 'gender': 1, 'id': 12903, 'name': 'Sarah Freeman', 'order': 11, 'profile_path': None}, {'cast_id': 27, 'character': 'TV Announcer (voice)', 'credit_id': '52fe4284c3a36847f8024fc5', 'gender': 2, 'id': 37221, 'name': 'Penn Jillette', 'order': 12, 'profile_path': '/zmAaXUdx12NRsssgHbk1T31j2x9.jpg'}]\""
      ]
     },
     "execution_count": 11,
     "metadata": {},
     "output_type": "execute_result"
    }
   ],
   "source": [
    "df_merged.loc[0, 'cast']"
   ]
  },
  {
   "cell_type": "markdown",
   "id": "d0f6857c-5881-45a7-a892-d8e6f654710f",
   "metadata": {},
   "source": [
    "# **EDA**"
   ]
  },
  {
   "cell_type": "code",
   "execution_count": 12,
   "id": "e77e0999-c99c-4928-bace-8e73e005f823",
   "metadata": {
    "tags": []
   },
   "outputs": [
    {
     "data": {
      "text/plain": [
       "adult                                                                False\n",
       "belongs_to_collection    {'id': 10194, 'name': 'Toy Story Collection', ...\n",
       "budget                                                          30000000.0\n",
       "genres                   [{'id': 16, 'name': 'Animation'}, {'id': 35, '...\n",
       "homepage                              http://toystory.disney.com/toy-story\n",
       "id                                                                     862\n",
       "imdb_id                                                             114709\n",
       "original_language                                                       en\n",
       "original_title                                                   Toy Story\n",
       "overview                 Led by Woody, Andy's toys live happily in his ...\n",
       "popularity                                                       21.946943\n",
       "poster_path                               /rhIRbceoE9lR4veEXuwCC2wARtG.jpg\n",
       "production_companies        [{'name': 'Pixar Animation Studios', 'id': 3}]\n",
       "production_countries     [{'iso_3166_1': 'US', 'name': 'United States o...\n",
       "release_date                                                    1995-10-30\n",
       "revenue                                                        373554033.0\n",
       "runtime                                                               81.0\n",
       "spoken_languages                  [{'iso_639_1': 'en', 'name': 'English'}]\n",
       "status                                                            Released\n",
       "tagline                                                                NaN\n",
       "title                                                            Toy Story\n",
       "video                                                                False\n",
       "vote_average                                                           7.7\n",
       "vote_count                                                          5415.0\n",
       "Name: 0, dtype: object"
      ]
     },
     "execution_count": 12,
     "metadata": {},
     "output_type": "execute_result"
    }
   ],
   "source": [
    "df_movies.loc[0, :]"
   ]
  },
  {
   "cell_type": "code",
   "execution_count": 13,
   "id": "5085f612-02a9-4dbc-be00-03102c8d5a8d",
   "metadata": {
    "tags": []
   },
   "outputs": [
    {
     "name": "stdout",
     "output_type": "stream",
     "text": [
      "Index(['id', 'keywords'], dtype='object')\n"
     ]
    },
    {
     "data": {
      "text/plain": [
       "\"[{'id': 931, 'name': 'jealousy'}, {'id': 4290, 'name': 'toy'}, {'id': 5202, 'name': 'boy'}, {'id': 6054, 'name': 'friendship'}, {'id': 9713, 'name': 'friends'}, {'id': 9823, 'name': 'rivalry'}, {'id': 165503, 'name': 'boy next door'}, {'id': 170722, 'name': 'new toy'}, {'id': 187065, 'name': 'toy comes to life'}]\""
      ]
     },
     "execution_count": 13,
     "metadata": {},
     "output_type": "execute_result"
    }
   ],
   "source": [
    "print(df_keywords.columns)\n",
    "df_keywords.loc[0, :]['keywords']"
   ]
  },
  {
   "cell_type": "code",
   "execution_count": 14,
   "id": "32014e65-2fba-4479-8fdb-a72d9f8174d5",
   "metadata": {
    "tags": []
   },
   "outputs": [
    {
     "name": "stdout",
     "output_type": "stream",
     "text": [
      "Index(['cast', 'crew', 'id'], dtype='object')\n"
     ]
    },
    {
     "data": {
      "text/html": [
       "<div>\n",
       "<style scoped>\n",
       "    .dataframe tbody tr th:only-of-type {\n",
       "        vertical-align: middle;\n",
       "    }\n",
       "\n",
       "    .dataframe tbody tr th {\n",
       "        vertical-align: top;\n",
       "    }\n",
       "\n",
       "    .dataframe thead th {\n",
       "        text-align: right;\n",
       "    }\n",
       "</style>\n",
       "<table border=\"1\" class=\"dataframe\">\n",
       "  <thead>\n",
       "    <tr style=\"text-align: right;\">\n",
       "      <th></th>\n",
       "      <th>cast</th>\n",
       "      <th>crew</th>\n",
       "      <th>id</th>\n",
       "    </tr>\n",
       "  </thead>\n",
       "  <tbody>\n",
       "  </tbody>\n",
       "</table>\n",
       "</div>"
      ],
      "text/plain": [
       "Empty DataFrame\n",
       "Columns: [cast, crew, id]\n",
       "Index: []"
      ]
     },
     "execution_count": 14,
     "metadata": {},
     "output_type": "execute_result"
    }
   ],
   "source": [
    "print(df_credits.columns)\n",
    "df_credits[df_credits[\"id\"] == \"862\"]\n",
    "# df_credits.loc[0, :]['cast']"
   ]
  },
  {
   "cell_type": "code",
   "execution_count": 15,
   "id": "ea93fd0f-6735-400b-920a-fbf13bd97fd5",
   "metadata": {
    "tags": []
   },
   "outputs": [
    {
     "name": "stdout",
     "output_type": "stream",
     "text": [
      "Index(['imdb_id', 'tmdb_id'], dtype='object')\n"
     ]
    },
    {
     "data": {
      "text/plain": [
       "imdb_id    114709\n",
       "tmdb_id       862\n",
       "Name: 0, dtype: Int64"
      ]
     },
     "execution_count": 15,
     "metadata": {},
     "output_type": "execute_result"
    }
   ],
   "source": [
    "# TMDB ID, IMDB ID 데이터를 불러와서 활용할 수 있다.\n",
    "\n",
    "print(df_links.columns)\n",
    "df_links.loc[0, :]"
   ]
  },
  {
   "cell_type": "code",
   "execution_count": 16,
   "id": "59dc1895-f259-4438-80e2-c93d3993de13",
   "metadata": {
    "tags": []
   },
   "outputs": [
    {
     "name": "stdout",
     "output_type": "stream",
     "text": [
      "Index(['userId', 'movieId', 'rating', 'timestamp'], dtype='object')\n"
     ]
    },
    {
     "data": {
      "text/plain": [
       "userId       1.000000e+00\n",
       "movieId      1.100000e+02\n",
       "rating       1.000000e+00\n",
       "timestamp    1.425942e+09\n",
       "Name: 0, dtype: float64"
      ]
     },
     "execution_count": 16,
     "metadata": {},
     "output_type": "execute_result"
    }
   ],
   "source": [
    "print(df_ratings.columns)\n",
    "df_ratings.loc[0, :]"
   ]
  },
  {
   "cell_type": "code",
   "execution_count": 17,
   "id": "67b4f459-9007-42e7-a37d-94c3f1973620",
   "metadata": {
    "tags": []
   },
   "outputs": [
    {
     "name": "stdout",
     "output_type": "stream",
     "text": [
      "total unique users with ratings: 270896\n",
      "total unique movies with ratings: 45115\n"
     ]
    }
   ],
   "source": [
    "user_ids = set(df_ratings['userId'].unique())\n",
    "user_ids = {str(user_id) for user_id in user_ids}\n",
    "print(f\"total unique users with ratings: {len(user_ids)}\")\n",
    "\n",
    "movie_ids = set(df_ratings['movieId'].unique())\n",
    "movie_ids = {str(movie_id) for movie_id in movie_ids}\n",
    "print(f\"total unique movies with ratings: {len(movie_ids)}\")"
   ]
  },
  {
   "cell_type": "code",
   "execution_count": 18,
   "id": "846ccc67-56bb-40b9-b5af-b1dde1254871",
   "metadata": {},
   "outputs": [
    {
     "name": "stdout",
     "output_type": "stream",
     "text": [
      "total movies: 45433\n",
      "total movies with ratings: 0\n"
     ]
    }
   ],
   "source": [
    "print(f\"total movies: {len(df_movies)}\")\n",
    "print(f\"total movies with ratings: {len(df_movies[df_movies['id'].isin(movie_ids)])}\")"
   ]
  },
  {
   "cell_type": "code",
   "execution_count": 19,
   "id": "1ba64c9a-308a-43d6-9852-f921fde3fced",
   "metadata": {
    "tags": []
   },
   "outputs": [
    {
     "data": {
      "text/html": [
       "<div>\n",
       "<style scoped>\n",
       "    .dataframe tbody tr th:only-of-type {\n",
       "        vertical-align: middle;\n",
       "    }\n",
       "\n",
       "    .dataframe tbody tr th {\n",
       "        vertical-align: top;\n",
       "    }\n",
       "\n",
       "    .dataframe thead th {\n",
       "        text-align: right;\n",
       "    }\n",
       "</style>\n",
       "<table border=\"1\" class=\"dataframe\">\n",
       "  <thead>\n",
       "    <tr style=\"text-align: right;\">\n",
       "      <th></th>\n",
       "      <th>adult</th>\n",
       "      <th>belongs_to_collection</th>\n",
       "      <th>budget</th>\n",
       "      <th>genres</th>\n",
       "      <th>homepage</th>\n",
       "      <th>id</th>\n",
       "      <th>imdb_id</th>\n",
       "      <th>original_language</th>\n",
       "      <th>original_title</th>\n",
       "      <th>overview</th>\n",
       "      <th>...</th>\n",
       "      <th>release_date</th>\n",
       "      <th>revenue</th>\n",
       "      <th>runtime</th>\n",
       "      <th>spoken_languages</th>\n",
       "      <th>status</th>\n",
       "      <th>tagline</th>\n",
       "      <th>title</th>\n",
       "      <th>video</th>\n",
       "      <th>vote_average</th>\n",
       "      <th>vote_count</th>\n",
       "    </tr>\n",
       "  </thead>\n",
       "  <tbody>\n",
       "  </tbody>\n",
       "</table>\n",
       "<p>0 rows × 24 columns</p>\n",
       "</div>"
      ],
      "text/plain": [
       "Empty DataFrame\n",
       "Columns: [adult, belongs_to_collection, budget, genres, homepage, id, imdb_id, original_language, original_title, overview, popularity, poster_path, production_companies, production_countries, release_date, revenue, runtime, spoken_languages, status, tagline, title, video, vote_average, vote_count]\n",
       "Index: []\n",
       "\n",
       "[0 rows x 24 columns]"
      ]
     },
     "execution_count": 19,
     "metadata": {},
     "output_type": "execute_result"
    }
   ],
   "source": [
    "df_movies[df_movies['id'].isin(movie_ids)]"
   ]
  },
  {
   "cell_type": "markdown",
   "id": "73c32cbb-f98e-426b-99eb-e8a421c50282",
   "metadata": {},
   "source": [
    "# **추천 시스템 구현**"
   ]
  },
  {
   "cell_type": "markdown",
   "id": "0ee5d8c3-de90-4946-8f35-753e8f29a649",
   "metadata": {},
   "source": [
    "## **1) Demographic Filtering**"
   ]
  },
  {
   "cell_type": "code",
   "execution_count": 20,
   "id": "93bca2d6-9a50-4410-89ff-2d345ff67d16",
   "metadata": {
    "tags": []
   },
   "outputs": [
    {
     "data": {
      "text/plain": [
       "5.613657357448094"
      ]
     },
     "execution_count": 20,
     "metadata": {},
     "output_type": "execute_result"
    }
   ],
   "source": [
    "C = df_merged['vote_average'].mean()\n",
    "C"
   ]
  },
  {
   "cell_type": "code",
   "execution_count": 21,
   "id": "5990d768-863c-434d-ab01-52c56cd96b49",
   "metadata": {
    "tags": []
   },
   "outputs": [
    {
     "data": {
      "text/plain": [
       "156.0"
      ]
     },
     "execution_count": 21,
     "metadata": {},
     "output_type": "execute_result"
    }
   ],
   "source": [
    "m = df_merged['vote_count'].quantile(0.9)\n",
    "m"
   ]
  },
  {
   "cell_type": "code",
   "execution_count": 22,
   "id": "17d15597-9172-436d-8fb4-e61831000bf6",
   "metadata": {
    "tags": []
   },
   "outputs": [
    {
     "data": {
      "text/plain": [
       "(4656, 28)"
      ]
     },
     "execution_count": 22,
     "metadata": {},
     "output_type": "execute_result"
    }
   ],
   "source": [
    "q_movies = df_merged.copy().loc[df_merged['vote_count'] >= m]\n",
    "q_movies.shape"
   ]
  },
  {
   "cell_type": "code",
   "execution_count": 23,
   "id": "5494d6c9-b6a9-4c00-91e3-4bfa4b94203a",
   "metadata": {
    "tags": []
   },
   "outputs": [],
   "source": [
    "def weighted_rating(x, m=m, C=C):\n",
    "    v = x['vote_count']\n",
    "    R = x['vote_average']\n",
    "    # Calculation based on the IMDB formula\n",
    "    return (v/(v+m) * R) + (m/(m+v) * C)"
   ]
  },
  {
   "cell_type": "code",
   "execution_count": 24,
   "id": "cae36335-7d03-488a-8617-e3b74848bf47",
   "metadata": {
    "tags": []
   },
   "outputs": [],
   "source": [
    "q_movies['score'] = q_movies.apply(weighted_rating, axis=1)"
   ]
  },
  {
   "cell_type": "code",
   "execution_count": 25,
   "id": "5f748549-6af0-43ba-8cf2-ba2dc08e76dd",
   "metadata": {
    "tags": []
   },
   "outputs": [
    {
     "data": {
      "text/html": [
       "<div>\n",
       "<style scoped>\n",
       "    .dataframe tbody tr th:only-of-type {\n",
       "        vertical-align: middle;\n",
       "    }\n",
       "\n",
       "    .dataframe tbody tr th {\n",
       "        vertical-align: top;\n",
       "    }\n",
       "\n",
       "    .dataframe thead th {\n",
       "        text-align: right;\n",
       "    }\n",
       "</style>\n",
       "<table border=\"1\" class=\"dataframe\">\n",
       "  <thead>\n",
       "    <tr style=\"text-align: right;\">\n",
       "      <th></th>\n",
       "      <th>title</th>\n",
       "      <th>vote_count</th>\n",
       "      <th>vote_average</th>\n",
       "      <th>score</th>\n",
       "    </tr>\n",
       "  </thead>\n",
       "  <tbody>\n",
       "    <tr>\n",
       "      <th>314</th>\n",
       "      <td>The Shawshank Redemption</td>\n",
       "      <td>8358.0</td>\n",
       "      <td>8.5</td>\n",
       "      <td>8.447114</td>\n",
       "    </tr>\n",
       "    <tr>\n",
       "      <th>10294</th>\n",
       "      <td>Dilwale Dulhania Le Jayenge</td>\n",
       "      <td>661.0</td>\n",
       "      <td>9.1</td>\n",
       "      <td>8.434309</td>\n",
       "    </tr>\n",
       "    <tr>\n",
       "      <th>834</th>\n",
       "      <td>The Godfather</td>\n",
       "      <td>6024.0</td>\n",
       "      <td>8.5</td>\n",
       "      <td>8.427141</td>\n",
       "    </tr>\n",
       "    <tr>\n",
       "      <th>12466</th>\n",
       "      <td>The Dark Knight</td>\n",
       "      <td>12269.0</td>\n",
       "      <td>8.3</td>\n",
       "      <td>8.266272</td>\n",
       "    </tr>\n",
       "    <tr>\n",
       "      <th>2840</th>\n",
       "      <td>Fight Club</td>\n",
       "      <td>9678.0</td>\n",
       "      <td>8.3</td>\n",
       "      <td>8.257386</td>\n",
       "    </tr>\n",
       "    <tr>\n",
       "      <th>292</th>\n",
       "      <td>Pulp Fiction</td>\n",
       "      <td>8670.0</td>\n",
       "      <td>8.3</td>\n",
       "      <td>8.252519</td>\n",
       "    </tr>\n",
       "    <tr>\n",
       "      <th>522</th>\n",
       "      <td>Schindler's List</td>\n",
       "      <td>4436.0</td>\n",
       "      <td>8.3</td>\n",
       "      <td>8.208739</td>\n",
       "    </tr>\n",
       "    <tr>\n",
       "      <th>23621</th>\n",
       "      <td>Whiplash</td>\n",
       "      <td>4376.0</td>\n",
       "      <td>8.3</td>\n",
       "      <td>8.207531</td>\n",
       "    </tr>\n",
       "    <tr>\n",
       "      <th>5476</th>\n",
       "      <td>Spirited Away</td>\n",
       "      <td>3968.0</td>\n",
       "      <td>8.3</td>\n",
       "      <td>8.198383</td>\n",
       "    </tr>\n",
       "    <tr>\n",
       "      <th>2209</th>\n",
       "      <td>Life Is Beautiful</td>\n",
       "      <td>3643.0</td>\n",
       "      <td>8.3</td>\n",
       "      <td>8.189690</td>\n",
       "    </tr>\n",
       "  </tbody>\n",
       "</table>\n",
       "</div>"
      ],
      "text/plain": [
       "                             title  vote_count  vote_average     score\n",
       "314       The Shawshank Redemption      8358.0           8.5  8.447114\n",
       "10294  Dilwale Dulhania Le Jayenge       661.0           9.1  8.434309\n",
       "834                  The Godfather      6024.0           8.5  8.427141\n",
       "12466              The Dark Knight     12269.0           8.3  8.266272\n",
       "2840                    Fight Club      9678.0           8.3  8.257386\n",
       "292                   Pulp Fiction      8670.0           8.3  8.252519\n",
       "522               Schindler's List      4436.0           8.3  8.208739\n",
       "23621                     Whiplash      4376.0           8.3  8.207531\n",
       "5476                 Spirited Away      3968.0           8.3  8.198383\n",
       "2209             Life Is Beautiful      3643.0           8.3  8.189690"
      ]
     },
     "execution_count": 25,
     "metadata": {},
     "output_type": "execute_result"
    }
   ],
   "source": [
    "# Sort movies based on score calculated above\n",
    "q_movies = q_movies.sort_values('score', ascending=False)\n",
    "\n",
    "# Print the top 15 movies\n",
    "q_movies[['title', 'vote_count', 'vote_average', 'score']].head(10)"
   ]
  },
  {
   "cell_type": "markdown",
   "id": "ef88ebe2-01d8-4f5b-a7e6-e86f04bae14d",
   "metadata": {},
   "source": [
    "## **2) Content Based Filtering**"
   ]
  },
  {
   "cell_type": "code",
   "execution_count": 26,
   "id": "a83ae553-8564-49e9-920b-0416f2470c1e",
   "metadata": {
    "tags": []
   },
   "outputs": [
    {
     "data": {
      "text/plain": [
       "0    Led by Woody, Andy's toys live happily in his ...\n",
       "1    When siblings Judy and Peter discover an encha...\n",
       "2    A family wedding reignites the ancient feud be...\n",
       "3    Cheated on, mistreated and stepped on, the wom...\n",
       "4    Just when George Banks has recovered from his ...\n",
       "Name: overview, dtype: object"
      ]
     },
     "execution_count": 26,
     "metadata": {},
     "output_type": "execute_result"
    }
   ],
   "source": [
    "df_merged['overview'].head(5)"
   ]
  },
  {
   "cell_type": "code",
   "execution_count": 27,
   "id": "4493128b-c2f8-4750-8486-f07d09100156",
   "metadata": {
    "tags": []
   },
   "outputs": [
    {
     "data": {
      "text/plain": [
       "(46338, 75764)"
      ]
     },
     "execution_count": 27,
     "metadata": {},
     "output_type": "execute_result"
    }
   ],
   "source": [
    "tfidf = TfidfVectorizer(stop_words=\"english\")\n",
    "\n",
    "df_merged['overview'] = df_merged['overview'].fillna('')\n",
    "\n",
    "tfidf_matrix = tfidf.fit_transform(df_merged['overview'])\n",
    "\n",
    "tfidf_matrix.shape"
   ]
  },
  {
   "cell_type": "code",
   "execution_count": 28,
   "id": "2856f011-2823-4c25-a5e4-8b0788900075",
   "metadata": {
    "tags": []
   },
   "outputs": [],
   "source": [
    "cosine_sim = linear_kernel(tfidf_matrix, tfidf_matrix)\n",
    "\n",
    "indices = pd.Series(df_merged.index, index=df_merged['title']).drop_duplicates()"
   ]
  },
  {
   "cell_type": "code",
   "execution_count": 29,
   "id": "95efbcde-6eb5-4663-a732-45ab8531b5f6",
   "metadata": {
    "tags": []
   },
   "outputs": [],
   "source": [
    "def get_recommendations(title, cosine_sim=cosine_sim):\n",
    "    # Get the index of the movie that matches the title\n",
    "    if title not in indices:\n",
    "        raise ValueError(f\"Title '{title}' not found in indices.\")\n",
    "    \n",
    "    idx = indices[title]\n",
    "\n",
    "    # Get the pairwise similarity scores of all movies with that movie\n",
    "    sim_scores = list(enumerate(cosine_sim[idx].flatten()))\n",
    "\n",
    "    # Sort the movies based on the similarity scores\n",
    "    sim_scores = sorted(sim_scores, key=lambda x: x[1], reverse=True)\n",
    "\n",
    "    # Get the scores of the 10 most similar movies (excluding the first which is itself)\n",
    "    sim_scores = sim_scores[1:11]\n",
    "\n",
    "    # Get the movie indices\n",
    "    movie_indices = [i[0] for i in sim_scores]\n",
    "    \n",
    "    # Ensure indices are valid and within bounds\n",
    "    max_index = df_merged.shape[0] - 1\n",
    "    movie_indices = [i for i in movie_indices if i <= max_index]\n",
    "\n",
    "    # Return the top 10 most similar movies\n",
    "    return df_merged['title'].iloc[movie_indices]"
   ]
  },
  {
   "cell_type": "code",
   "execution_count": 30,
   "id": "35bb3411-65dc-46cc-87aa-2889c62c5537",
   "metadata": {
    "tags": []
   },
   "outputs": [
    {
     "data": {
      "text/plain": [
       "12466                                      The Dark Knight\n",
       "150                                         Batman Forever\n",
       "1328                                        Batman Returns\n",
       "15494                           Batman: Under the Red Hood\n",
       "585                                                 Batman\n",
       "21150    Batman Unmasked: The Psychology of the Dark Kn...\n",
       "9218                    Batman Beyond: Return of the Joker\n",
       "18009                                     Batman: Year One\n",
       "19757              Batman: The Dark Knight Returns, Part 1\n",
       "3091                          Batman: Mask of the Phantasm\n",
       "Name: title, dtype: object"
      ]
     },
     "execution_count": 30,
     "metadata": {},
     "output_type": "execute_result"
    }
   ],
   "source": [
    "get_recommendations('The Dark Knight Rises')"
   ]
  },
  {
   "cell_type": "code",
   "execution_count": 31,
   "id": "2c3a322a-9cd1-487b-ad76-f5dcb4ccf41e",
   "metadata": {
    "tags": []
   },
   "outputs": [
    {
     "data": {
      "text/plain": [
       "41282             The Work and the Glory\n",
       "1100     Monty Python and the Holy Grail\n",
       "34337                       Cheap Smokes\n",
       "25158                Sir Arne's Treasure\n",
       "12214                That Hamilton Woman\n",
       "25067                 Doctor in Distress\n",
       "Name: title, dtype: object"
      ]
     },
     "execution_count": 31,
     "metadata": {},
     "output_type": "execute_result"
    }
   ],
   "source": [
    "get_recommendations('The Avengers')"
   ]
  },
  {
   "cell_type": "code",
   "execution_count": 32,
   "id": "b568b6c2-bbdc-46c1-91b5-8397af5bb948",
   "metadata": {
    "tags": []
   },
   "outputs": [],
   "source": [
    "features = ['cast', 'crew', 'keywords', 'genres']\n",
    "\n",
    "for feature in features:\n",
    "    df_merged[feature] = df_merged[feature].apply(literal_eval)"
   ]
  },
  {
   "cell_type": "code",
   "execution_count": 33,
   "id": "e190e459-fbb4-4c19-9c03-537cdb77d249",
   "metadata": {
    "tags": []
   },
   "outputs": [],
   "source": [
    "def get_director(x):\n",
    "    for i in x:\n",
    "        if i['job'] == 'Director':\n",
    "            return i['name']\n",
    "    return np.nan"
   ]
  },
  {
   "cell_type": "code",
   "execution_count": 34,
   "id": "953e46c5-81e7-430d-8a67-65da90c93716",
   "metadata": {
    "tags": []
   },
   "outputs": [],
   "source": [
    "# Returns the list top 3 elements or entire list; whichever is more.\n",
    "def get_list(x):\n",
    "    if isinstance(x, list):\n",
    "        names = [i['name'] for i in x]\n",
    "        #Check if more than 3 elements exist. If yes, return only first three. If no, return entire list.\n",
    "        if len(names) > 3:\n",
    "            names = names[:3]\n",
    "        return names\n",
    "\n",
    "    #Return empty list in case of missing/malformed data\n",
    "    return []"
   ]
  },
  {
   "cell_type": "code",
   "execution_count": 35,
   "id": "5b07e8e9-839f-4480-a5e1-8cc88c37819d",
   "metadata": {
    "tags": []
   },
   "outputs": [],
   "source": [
    "# Define new director, cast, genres and keywords features that are in a suitable form.\n",
    "df_merged['director'] = df_merged['crew'].apply(get_director)\n",
    "\n",
    "features = ['cast', 'keywords', 'genres']\n",
    "for feature in features:\n",
    "    df_merged[feature] = df_merged[feature].apply(get_list)"
   ]
  },
  {
   "cell_type": "code",
   "execution_count": 36,
   "id": "b4cd6327-c8d1-48f9-ac8e-6a6663e33168",
   "metadata": {
    "tags": []
   },
   "outputs": [
    {
     "data": {
      "text/html": [
       "<div>\n",
       "<style scoped>\n",
       "    .dataframe tbody tr th:only-of-type {\n",
       "        vertical-align: middle;\n",
       "    }\n",
       "\n",
       "    .dataframe tbody tr th {\n",
       "        vertical-align: top;\n",
       "    }\n",
       "\n",
       "    .dataframe thead th {\n",
       "        text-align: right;\n",
       "    }\n",
       "</style>\n",
       "<table border=\"1\" class=\"dataframe\">\n",
       "  <thead>\n",
       "    <tr style=\"text-align: right;\">\n",
       "      <th></th>\n",
       "      <th>title</th>\n",
       "      <th>cast</th>\n",
       "      <th>director</th>\n",
       "      <th>keywords</th>\n",
       "      <th>genres</th>\n",
       "    </tr>\n",
       "  </thead>\n",
       "  <tbody>\n",
       "    <tr>\n",
       "      <th>0</th>\n",
       "      <td>Toy Story</td>\n",
       "      <td>[Tom Hanks, Tim Allen, Don Rickles]</td>\n",
       "      <td>John Lasseter</td>\n",
       "      <td>[jealousy, toy, boy]</td>\n",
       "      <td>[Animation, Comedy, Family]</td>\n",
       "    </tr>\n",
       "    <tr>\n",
       "      <th>1</th>\n",
       "      <td>Jumanji</td>\n",
       "      <td>[Robin Williams, Jonathan Hyde, Kirsten Dunst]</td>\n",
       "      <td>Joe Johnston</td>\n",
       "      <td>[board game, disappearance, based on children'...</td>\n",
       "      <td>[Adventure, Fantasy, Family]</td>\n",
       "    </tr>\n",
       "    <tr>\n",
       "      <th>2</th>\n",
       "      <td>Grumpier Old Men</td>\n",
       "      <td>[Walter Matthau, Jack Lemmon, Ann-Margret]</td>\n",
       "      <td>Howard Deutch</td>\n",
       "      <td>[fishing, best friend, duringcreditsstinger]</td>\n",
       "      <td>[Romance, Comedy]</td>\n",
       "    </tr>\n",
       "  </tbody>\n",
       "</table>\n",
       "</div>"
      ],
      "text/plain": [
       "              title                                            cast  \\\n",
       "0         Toy Story             [Tom Hanks, Tim Allen, Don Rickles]   \n",
       "1           Jumanji  [Robin Williams, Jonathan Hyde, Kirsten Dunst]   \n",
       "2  Grumpier Old Men      [Walter Matthau, Jack Lemmon, Ann-Margret]   \n",
       "\n",
       "        director                                           keywords  \\\n",
       "0  John Lasseter                               [jealousy, toy, boy]   \n",
       "1   Joe Johnston  [board game, disappearance, based on children'...   \n",
       "2  Howard Deutch       [fishing, best friend, duringcreditsstinger]   \n",
       "\n",
       "                         genres  \n",
       "0   [Animation, Comedy, Family]  \n",
       "1  [Adventure, Fantasy, Family]  \n",
       "2             [Romance, Comedy]  "
      ]
     },
     "execution_count": 36,
     "metadata": {},
     "output_type": "execute_result"
    }
   ],
   "source": [
    "df_merged[['title', 'cast', 'director', 'keywords', 'genres']].head(3)"
   ]
  },
  {
   "cell_type": "code",
   "execution_count": 37,
   "id": "98aaa821-7b10-4268-9d94-b35acaa2f1ad",
   "metadata": {
    "tags": []
   },
   "outputs": [],
   "source": [
    "# Function to convert all strings to lower case and strip names of spaces\n",
    "def clean_data(x):\n",
    "    if isinstance(x, list):\n",
    "        return [str.lower(i.replace(\" \", \"\")) for i in x]\n",
    "    else:\n",
    "        #Check if director exists. If not, return empty string\n",
    "        if isinstance(x, str):\n",
    "            return str.lower(x.replace(\" \", \"\"))\n",
    "        else:\n",
    "            return ''"
   ]
  },
  {
   "cell_type": "code",
   "execution_count": 38,
   "id": "b1cf807d-38a2-460f-9c8e-8865b5abaa85",
   "metadata": {
    "tags": []
   },
   "outputs": [],
   "source": [
    "# Apply clean_data function to your features.\n",
    "features = ['cast', 'keywords', 'director', 'genres']\n",
    "\n",
    "for feature in features:\n",
    "    df_merged[feature] = df_merged[feature].apply(clean_data)"
   ]
  },
  {
   "cell_type": "code",
   "execution_count": 39,
   "id": "ad9c346b-9663-4876-9a79-dda8385714da",
   "metadata": {
    "tags": []
   },
   "outputs": [],
   "source": [
    "def create_soup(x):\n",
    "    return ' '.join(x['keywords']) + ' ' + ' '.join(x['cast']) + ' ' + x['director'] + ' ' + ' '.join(x['genres'])\n",
    "\n",
    "df_merged['soup'] = df_merged.apply(create_soup, axis=1)"
   ]
  },
  {
   "cell_type": "code",
   "execution_count": 40,
   "id": "42a21564-923e-472e-b655-c41239e80c39",
   "metadata": {
    "tags": []
   },
   "outputs": [],
   "source": [
    "count = CountVectorizer(stop_words='english')\n",
    "count_matrix = count.fit_transform(df_merged['soup'])"
   ]
  },
  {
   "cell_type": "code",
   "execution_count": 41,
   "id": "fae4d028-4fa1-4f0b-8a3a-cb6ddb1362dd",
   "metadata": {
    "tags": []
   },
   "outputs": [],
   "source": [
    "cosine_sim2 = cosine_similarity(count_matrix, count_matrix)"
   ]
  },
  {
   "cell_type": "code",
   "execution_count": 42,
   "id": "167b0233-7e8f-40bf-b8f3-ea9ec038c7c7",
   "metadata": {
    "tags": []
   },
   "outputs": [],
   "source": [
    "df_merged = df_merged.reset_index()\n",
    "indices = pd.Series(df_merged.index, index=df_merged['title'])"
   ]
  },
  {
   "cell_type": "code",
   "execution_count": 43,
   "id": "c0af1de5-d1ff-4dd6-8002-b3193cfc00e9",
   "metadata": {
    "tags": []
   },
   "outputs": [
    {
     "data": {
      "text/plain": [
       "12466      The Dark Knight\n",
       "10108        Batman Begins\n",
       "9217                Shiner\n",
       "9774       Amongst Friends\n",
       "7688              Mitchell\n",
       "516      Romeo Is Bleeding\n",
       "11341         The Prestige\n",
       "23842            Quicksand\n",
       "24784             Deadfall\n",
       "40778                 Sara\n",
       "Name: title, dtype: object"
      ]
     },
     "execution_count": 43,
     "metadata": {},
     "output_type": "execute_result"
    }
   ],
   "source": [
    "get_recommendations('The Dark Knight Rises', cosine_sim2)"
   ]
  },
  {
   "cell_type": "code",
   "execution_count": 44,
   "id": "1670c866-4e60-4203-9c7f-f61f32a1dbef",
   "metadata": {
    "tags": []
   },
   "outputs": [
    {
     "data": {
      "text/plain": [
       "1913            The Godfather: Part III\n",
       "1178             The Godfather: Part II\n",
       "15421                   The Rain People\n",
       "18721                         Last Exit\n",
       "34209                              Rege\n",
       "35520            Manuscripts Don't Burn\n",
       "35521            Manuscripts Don't Burn\n",
       "7917     The Night of the Following Day\n",
       "18045                 The Son of No One\n",
       "28414            In the Name of the Law\n",
       "Name: title, dtype: object"
      ]
     },
     "execution_count": 44,
     "metadata": {},
     "output_type": "execute_result"
    }
   ],
   "source": [
    "get_recommendations('The Godfather', cosine_sim2)"
   ]
  },
  {
   "cell_type": "markdown",
   "id": "fecac312-9f34-47de-bd2e-86864accace5",
   "metadata": {},
   "source": [
    "## **3) Collaborative Filtering**"
   ]
  },
  {
   "cell_type": "code",
   "execution_count": 45,
   "id": "c3e20f23-42a8-410a-b8bc-de4d7696a908",
   "metadata": {},
   "outputs": [],
   "source": [
    "# Pre-filter Unnecessary Data\n",
    "df_ratings = df_ratings.groupby('movieId').filter(lambda x: len(x) > 10)  # Keep movies rated by more than 10 users\n",
    "df_ratings = df_ratings.groupby('userId').filter(lambda x: len(x) > 5)    # Keep users who rated more than 5 movies\n",
    "\n",
    "# Define the Reader and load the dataset\n",
    "reader = Reader()\n",
    "data = Dataset.load_from_df(df_ratings[['userId', 'movieId', 'rating']], reader)"
   ]
  },
  {
   "cell_type": "code",
   "execution_count": 46,
   "id": "9b496e9e-c60b-403e-aac0-b612d5fc08d7",
   "metadata": {
    "tags": []
   },
   "outputs": [
    {
     "name": "stdout",
     "output_type": "stream",
     "text": [
      "Evaluating RMSE, MAE of algorithm SVD on 5 split(s).\n",
      "\n",
      "                  Fold 1  Fold 2  Fold 3  Fold 4  Fold 5  Mean    Std     \n",
      "RMSE (testset)    0.7937  0.7948  0.7943  0.7938  0.7937  0.7941  0.0005  \n",
      "MAE (testset)     0.6008  0.6015  0.6010  0.6007  0.6006  0.6009  0.0003  \n",
      "Fit time          89.52   96.37   96.89   93.69   86.82   92.66   3.91    \n",
      "Test time         30.69   28.53   26.01   24.04   23.67   26.59   2.68    \n"
     ]
    }
   ],
   "source": [
    "# Initialize the SVD algorithm (Use Stochastic Gradient Descent (SGD) for Faster SVD Fitting)\n",
    "svd = SVD(n_factors=100, n_epochs=20, lr_all=0.005, reg_all=0.02)\n",
    "\n",
    "# Use cross_validate instead of evaluate\n",
    "results = cross_validate(svd, data, measures=['RMSE', 'MAE'], cv=5, n_jobs=-1, verbose=True)"
   ]
  },
  {
   "cell_type": "code",
   "execution_count": 47,
   "id": "732136ef-d9d6-4fab-a959-39dd7cb6ec4d",
   "metadata": {
    "tags": []
   },
   "outputs": [
    {
     "data": {
      "text/plain": [
       "<surprise.prediction_algorithms.matrix_factorization.SVD at 0x419ec6350>"
      ]
     },
     "execution_count": 47,
     "metadata": {},
     "output_type": "execute_result"
    }
   ],
   "source": [
    "trainset = data.build_full_trainset()\n",
    "svd.fit(trainset)"
   ]
  },
  {
   "cell_type": "code",
   "execution_count": 48,
   "id": "f1c91c27-44bd-4d25-8925-3f250ec1cc9f",
   "metadata": {
    "tags": []
   },
   "outputs": [
    {
     "data": {
      "text/html": [
       "<div>\n",
       "<style scoped>\n",
       "    .dataframe tbody tr th:only-of-type {\n",
       "        vertical-align: middle;\n",
       "    }\n",
       "\n",
       "    .dataframe tbody tr th {\n",
       "        vertical-align: top;\n",
       "    }\n",
       "\n",
       "    .dataframe thead th {\n",
       "        text-align: right;\n",
       "    }\n",
       "</style>\n",
       "<table border=\"1\" class=\"dataframe\">\n",
       "  <thead>\n",
       "    <tr style=\"text-align: right;\">\n",
       "      <th></th>\n",
       "      <th>userId</th>\n",
       "      <th>movieId</th>\n",
       "      <th>rating</th>\n",
       "      <th>timestamp</th>\n",
       "    </tr>\n",
       "  </thead>\n",
       "  <tbody>\n",
       "    <tr>\n",
       "      <th>0</th>\n",
       "      <td>1</td>\n",
       "      <td>110</td>\n",
       "      <td>1.0</td>\n",
       "      <td>1425941529</td>\n",
       "    </tr>\n",
       "    <tr>\n",
       "      <th>1</th>\n",
       "      <td>1</td>\n",
       "      <td>147</td>\n",
       "      <td>4.5</td>\n",
       "      <td>1425942435</td>\n",
       "    </tr>\n",
       "    <tr>\n",
       "      <th>2</th>\n",
       "      <td>1</td>\n",
       "      <td>858</td>\n",
       "      <td>5.0</td>\n",
       "      <td>1425941523</td>\n",
       "    </tr>\n",
       "    <tr>\n",
       "      <th>3</th>\n",
       "      <td>1</td>\n",
       "      <td>1221</td>\n",
       "      <td>5.0</td>\n",
       "      <td>1425941546</td>\n",
       "    </tr>\n",
       "    <tr>\n",
       "      <th>4</th>\n",
       "      <td>1</td>\n",
       "      <td>1246</td>\n",
       "      <td>5.0</td>\n",
       "      <td>1425941556</td>\n",
       "    </tr>\n",
       "    <tr>\n",
       "      <th>5</th>\n",
       "      <td>1</td>\n",
       "      <td>1968</td>\n",
       "      <td>4.0</td>\n",
       "      <td>1425942148</td>\n",
       "    </tr>\n",
       "    <tr>\n",
       "      <th>6</th>\n",
       "      <td>1</td>\n",
       "      <td>2762</td>\n",
       "      <td>4.5</td>\n",
       "      <td>1425941300</td>\n",
       "    </tr>\n",
       "    <tr>\n",
       "      <th>7</th>\n",
       "      <td>1</td>\n",
       "      <td>2918</td>\n",
       "      <td>5.0</td>\n",
       "      <td>1425941593</td>\n",
       "    </tr>\n",
       "    <tr>\n",
       "      <th>8</th>\n",
       "      <td>1</td>\n",
       "      <td>2959</td>\n",
       "      <td>4.0</td>\n",
       "      <td>1425941601</td>\n",
       "    </tr>\n",
       "    <tr>\n",
       "      <th>9</th>\n",
       "      <td>1</td>\n",
       "      <td>4226</td>\n",
       "      <td>4.0</td>\n",
       "      <td>1425942228</td>\n",
       "    </tr>\n",
       "    <tr>\n",
       "      <th>10</th>\n",
       "      <td>1</td>\n",
       "      <td>4878</td>\n",
       "      <td>5.0</td>\n",
       "      <td>1425941434</td>\n",
       "    </tr>\n",
       "    <tr>\n",
       "      <th>11</th>\n",
       "      <td>1</td>\n",
       "      <td>5577</td>\n",
       "      <td>5.0</td>\n",
       "      <td>1425941397</td>\n",
       "    </tr>\n",
       "    <tr>\n",
       "      <th>12</th>\n",
       "      <td>1</td>\n",
       "      <td>33794</td>\n",
       "      <td>4.0</td>\n",
       "      <td>1425942005</td>\n",
       "    </tr>\n",
       "    <tr>\n",
       "      <th>13</th>\n",
       "      <td>1</td>\n",
       "      <td>54503</td>\n",
       "      <td>3.5</td>\n",
       "      <td>1425941313</td>\n",
       "    </tr>\n",
       "    <tr>\n",
       "      <th>14</th>\n",
       "      <td>1</td>\n",
       "      <td>58559</td>\n",
       "      <td>4.0</td>\n",
       "      <td>1425942007</td>\n",
       "    </tr>\n",
       "    <tr>\n",
       "      <th>15</th>\n",
       "      <td>1</td>\n",
       "      <td>59315</td>\n",
       "      <td>5.0</td>\n",
       "      <td>1425941502</td>\n",
       "    </tr>\n",
       "    <tr>\n",
       "      <th>16</th>\n",
       "      <td>1</td>\n",
       "      <td>68358</td>\n",
       "      <td>5.0</td>\n",
       "      <td>1425941464</td>\n",
       "    </tr>\n",
       "    <tr>\n",
       "      <th>17</th>\n",
       "      <td>1</td>\n",
       "      <td>69844</td>\n",
       "      <td>5.0</td>\n",
       "      <td>1425942139</td>\n",
       "    </tr>\n",
       "    <tr>\n",
       "      <th>18</th>\n",
       "      <td>1</td>\n",
       "      <td>73017</td>\n",
       "      <td>5.0</td>\n",
       "      <td>1425942699</td>\n",
       "    </tr>\n",
       "    <tr>\n",
       "      <th>19</th>\n",
       "      <td>1</td>\n",
       "      <td>81834</td>\n",
       "      <td>5.0</td>\n",
       "      <td>1425942133</td>\n",
       "    </tr>\n",
       "    <tr>\n",
       "      <th>20</th>\n",
       "      <td>1</td>\n",
       "      <td>91500</td>\n",
       "      <td>2.5</td>\n",
       "      <td>1425942647</td>\n",
       "    </tr>\n",
       "    <tr>\n",
       "      <th>21</th>\n",
       "      <td>1</td>\n",
       "      <td>91542</td>\n",
       "      <td>5.0</td>\n",
       "      <td>1425942618</td>\n",
       "    </tr>\n",
       "    <tr>\n",
       "      <th>22</th>\n",
       "      <td>1</td>\n",
       "      <td>92439</td>\n",
       "      <td>5.0</td>\n",
       "      <td>1425941424</td>\n",
       "    </tr>\n",
       "    <tr>\n",
       "      <th>23</th>\n",
       "      <td>1</td>\n",
       "      <td>96821</td>\n",
       "      <td>5.0</td>\n",
       "      <td>1425941382</td>\n",
       "    </tr>\n",
       "    <tr>\n",
       "      <th>24</th>\n",
       "      <td>1</td>\n",
       "      <td>98809</td>\n",
       "      <td>0.5</td>\n",
       "      <td>1425942640</td>\n",
       "    </tr>\n",
       "    <tr>\n",
       "      <th>25</th>\n",
       "      <td>1</td>\n",
       "      <td>99114</td>\n",
       "      <td>4.0</td>\n",
       "      <td>1425941667</td>\n",
       "    </tr>\n",
       "    <tr>\n",
       "      <th>26</th>\n",
       "      <td>1</td>\n",
       "      <td>112552</td>\n",
       "      <td>5.0</td>\n",
       "      <td>1425941336</td>\n",
       "    </tr>\n",
       "  </tbody>\n",
       "</table>\n",
       "</div>"
      ],
      "text/plain": [
       "    userId  movieId  rating   timestamp\n",
       "0        1      110     1.0  1425941529\n",
       "1        1      147     4.5  1425942435\n",
       "2        1      858     5.0  1425941523\n",
       "3        1     1221     5.0  1425941546\n",
       "4        1     1246     5.0  1425941556\n",
       "5        1     1968     4.0  1425942148\n",
       "6        1     2762     4.5  1425941300\n",
       "7        1     2918     5.0  1425941593\n",
       "8        1     2959     4.0  1425941601\n",
       "9        1     4226     4.0  1425942228\n",
       "10       1     4878     5.0  1425941434\n",
       "11       1     5577     5.0  1425941397\n",
       "12       1    33794     4.0  1425942005\n",
       "13       1    54503     3.5  1425941313\n",
       "14       1    58559     4.0  1425942007\n",
       "15       1    59315     5.0  1425941502\n",
       "16       1    68358     5.0  1425941464\n",
       "17       1    69844     5.0  1425942139\n",
       "18       1    73017     5.0  1425942699\n",
       "19       1    81834     5.0  1425942133\n",
       "20       1    91500     2.5  1425942647\n",
       "21       1    91542     5.0  1425942618\n",
       "22       1    92439     5.0  1425941424\n",
       "23       1    96821     5.0  1425941382\n",
       "24       1    98809     0.5  1425942640\n",
       "25       1    99114     4.0  1425941667\n",
       "26       1   112552     5.0  1425941336"
      ]
     },
     "execution_count": 48,
     "metadata": {},
     "output_type": "execute_result"
    }
   ],
   "source": [
    "df_ratings[df_ratings['userId'] == 1]"
   ]
  },
  {
   "cell_type": "code",
   "execution_count": 49,
   "id": "ab473cfa-af6b-485e-a20b-0c48b351a824",
   "metadata": {
    "tags": []
   },
   "outputs": [
    {
     "data": {
      "text/plain": [
       "Prediction(uid=3, iid=302, r_ui=None, est=3.5569135462041306, details={'was_impossible': False})"
      ]
     },
     "execution_count": 49,
     "metadata": {},
     "output_type": "execute_result"
    }
   ],
   "source": [
    "svd.predict(3, 302)"
   ]
  },
  {
   "cell_type": "code",
   "execution_count": 50,
   "id": "5913ca6e-6919-4961-ad3d-9d256e3fca8b",
   "metadata": {},
   "outputs": [
    {
     "data": {
      "text/plain": [
       "{60524: 5,\n",
       " 58874: 5,\n",
       " 424: 3,\n",
       " 45208: 3,\n",
       " 5607: 3,\n",
       " 5526: 2,\n",
       " 58740: 3,\n",
       " 27865: 3,\n",
       " 129941: 4,\n",
       " 115122: 2}"
      ]
     },
     "execution_count": 50,
     "metadata": {},
     "output_type": "execute_result"
    }
   ],
   "source": [
    "new_user_id = df_ratings['userId'].max() + 1  # Assign an ID to the new user\n",
    "\n",
    "# Select random movie IDs from actual movie IDs in df_ratings\n",
    "movie_ids = df_ratings['movieId'].unique()\n",
    "random_movie_ids = np.random.choice(movie_ids, size=10, replace=False)\n",
    "\n",
    "# Generate random user ratings for these movies\n",
    "new_user_ratings = {int(movie_id): np.random.randint(1, 6) for movie_id in random_movie_ids}\n",
    "\n",
    "new_user_ratings"
   ]
  },
  {
   "cell_type": "code",
   "execution_count": 51,
   "id": "6eea9e6b-84c5-4396-a949-38931b4d19c4",
   "metadata": {},
   "outputs": [
    {
     "name": "stdout",
     "output_type": "stream",
     "text": [
      "Top 10 recommendations for new user 270897:\n",
      "       movieId  est_rating\n",
      "4934    142115    4.716508\n",
      "51         527    4.602944\n",
      "609       1196    4.594887\n",
      "15424   169906    4.551331\n",
      "12264   136445    4.543584\n",
      "19103    86728    4.519422\n",
      "4839     45210    4.514653\n",
      "10835    80337    4.505107\n",
      "144       4993    4.499223\n",
      "8844    132492    4.493324\n"
     ]
    }
   ],
   "source": [
    "# Step 1: Map raw IDs to inner IDs and collect item factors and biases\n",
    "item_inner_ids = {}\n",
    "qi_list = []\n",
    "bi_list = []\n",
    "ratings_list = []\n",
    "\n",
    "for raw_iid, rating in new_user_ratings.items():\n",
    "    try:\n",
    "        inner_id = trainset.to_inner_iid(raw_iid)\n",
    "        item_inner_ids[raw_iid] = inner_id\n",
    "        qi = svd.qi[inner_id]  # Item factors\n",
    "        bi = svd.bi[inner_id]  # Item bias\n",
    "        qi_list.append(qi)\n",
    "        bi_list.append(bi)\n",
    "        ratings_list.append(rating)\n",
    "    except ValueError:\n",
    "        # The item was not in the training set\n",
    "        print(f\"MovieId {raw_iid} not in training set, skipping.\")\n",
    "\n",
    "# Step 2: Set up the least squares problem to solve for pu and bu\n",
    "ratings_arr = np.array(ratings_list)\n",
    "global_mean = trainset.global_mean\n",
    "bi_arr = np.array(bi_list)\n",
    "y = ratings_arr - global_mean - bi_arr  # Target variable\n",
    "\n",
    "qi_arr = np.array(qi_list)  # Design matrix without bias term\n",
    "X = np.hstack([np.ones((qi_arr.shape[0], 1)), qi_arr])  # Add bias term\n",
    "\n",
    "# Solve for theta = [bu, pu]\n",
    "# theta, residuals, rank, s = np.linalg.lstsq(X, y, rcond=None)\n",
    "# bu = theta[0]\n",
    "# pu = theta[1:]\n",
    "# use Ridge regression instead of `np.linalg.lstsq` for efficiency\n",
    "ridge = Ridge(alpha=1.0)\n",
    "ridge.fit(X, y)\n",
    "theta = ridge.coef_\n",
    "bu = theta[0]\n",
    "pu = theta[1:]\n",
    "\n",
    "# Step 3: Predict ratings for all items\n",
    "# Get all item factors and biases\n",
    "qi_all = svd.qi\n",
    "bi_all = svd.bi\n",
    "\n",
    "# Compute predicted ratings\n",
    "r_hat = global_mean + bu + bi_all + qi_all.dot(pu)\n",
    "\n",
    "# Map inner IDs to raw IDs\n",
    "inner_ids = np.arange(trainset.n_items)\n",
    "raw_ids = [int(trainset.to_raw_iid(inner_id)) for inner_id in inner_ids]\n",
    "\n",
    "# Create a DataFrame with predictions\n",
    "predictions_df = pd.DataFrame({\n",
    "    'movieId': raw_ids,\n",
    "    'est_rating': r_hat\n",
    "})\n",
    "\n",
    "# Remove movies the user has already rated\n",
    "rated_movie_ids = set(new_user_ratings.keys())\n",
    "predictions_df = predictions_df[~predictions_df['movieId'].isin(rated_movie_ids)]\n",
    "\n",
    "# Step 4: Get top 10 recommendations\n",
    "top_recommendations = predictions_df.sort_values('est_rating', ascending=False).head(10)\n",
    "\n",
    "print(f\"Top 10 recommendations for new user {new_user_id}:\")\n",
    "print(top_recommendations[['movieId', 'est_rating']])"
   ]
  },
  {
   "cell_type": "code",
   "execution_count": null,
   "id": "afe0050a",
   "metadata": {},
   "outputs": [],
   "source": [
    "top_recommendation_details = pd.merge(\n",
    "    top_recommendations, \n",
    "    df_merged, \n",
    "    left_on='movieId', \n",
    "    right_on='id'\n",
    ")\n",
    "\n",
    "# Select only relevant columns for the JSON response\n",
    "top_recommendation_details = top_recommendation_details[['movieId', 'imdb_id', 'tmdb_id', 'title', 'release_date', 'genres', 'cast', 'crew', 'keywords', 'est_rating']]\n",
    "\n",
    "# Convert to dictionary format (or JSON-like structure)\n",
    "json_response = top_recommendation_details.to_dict(orient='records')\n",
    "\n",
    "# Print or return the JSON response\n",
    "print(json.dumps(json_response, indent=4))  # Pretty print the JSON"
   ]
  },
  {
   "cell_type": "code",
   "execution_count": null,
   "id": "60ebe235-95b5-418d-926e-b388e35a352f",
   "metadata": {},
   "outputs": [],
   "source": [
    "tmdb_api_key = ' '\n",
    "\n",
    "tmdb_base_url = \"https://api.themoviedb.org/3\"\n",
    "image_base_url = \"https://image.tmdb.org/t/p/w500\"\n",
    "\n",
    "tmdb_id = 98491\n",
    "\n",
    "# Fetch movie details using TMDb ID\n",
    "def get_movie_details_by_tmdb(tmdb_id):\n",
    "    url = f\"{tmdb_base_url}/movie/{tmdb_id}?api_key={tmdb_api_key}\"\n",
    "    response = requests.get(url)\n",
    "    return response.json()\n",
    "\n",
    "# Get thumbnail image URL\n",
    "def get_thumbnail_url(movie_data):\n",
    "    if movie_data and 'poster_path' in movie_data:\n",
    "        return image_base_url + movie_data['poster_path']\n",
    "    return None\n",
    "\n",
    "# Example: Using TMDb ID\n",
    "movie_data = get_movie_details_by_tmdb(tmdb_id)\n",
    "thumbnail_url = get_thumbnail_url(movie_data)\n",
    "\n",
    "print(movie_data)\n",
    "\n",
    "if thumbnail_url:\n",
    "    print(f\"Thumbnail URL: {thumbnail_url}\")\n",
    "else:\n",
    "    print(\"No thumbnail available.\")"
   ]
  },
  {
   "cell_type": "code",
   "execution_count": null,
   "id": "2088e6ec",
   "metadata": {},
   "outputs": [],
   "source": [
    "import pickle\n",
    "\n",
    "# Save the trained SVD model to a file\n",
    "with open('svd_model.pkl', 'wb') as f:\n",
    "    pickle.dump(svd, f)"
   ]
  }
 ],
 "metadata": {
  "kernelspec": {
   "display_name": "Python 3 (ipykernel)",
   "language": "python",
   "name": "python3"
  },
  "language_info": {
   "codemirror_mode": {
    "name": "ipython",
    "version": 3
   },
   "file_extension": ".py",
   "mimetype": "text/x-python",
   "name": "python",
   "nbconvert_exporter": "python",
   "pygments_lexer": "ipython3",
   "version": "3.11.3"
  }
 },
 "nbformat": 4,
 "nbformat_minor": 5
}
